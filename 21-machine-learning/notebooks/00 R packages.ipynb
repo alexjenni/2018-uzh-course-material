{
 "cells": [
  {
   "cell_type": "markdown",
   "metadata": {},
   "source": [
    "# R packages\n",
    "The following additional R packages are recommended for this course:"
   ]
  },
  {
   "cell_type": "code",
   "execution_count": 5,
   "metadata": {
    "collapsed": true
   },
   "outputs": [],
   "source": [
    "pkg <- c(\"caret\",\"glmnet\",\"mlbench\",\"ROCR\",\"e1071\",\"ISLR\",\"tree\",\"randomForest\",\"gbm\")"
   ]
  },
  {
   "cell_type": "markdown",
   "metadata": {
    "collapsed": true
   },
   "source": [
    "Simply install them with\n",
    "\n",
    "`install.packages(pkg)`"
   ]
  }
 ],
 "metadata": {
  "kernelspec": {
   "display_name": "R",
   "language": "R",
   "name": "ir"
  },
  "language_info": {
   "codemirror_mode": "r",
   "file_extension": ".r",
   "mimetype": "text/x-r-source",
   "name": "R",
   "pygments_lexer": "r",
   "version": "3.4.4"
  }
 },
 "nbformat": 4,
 "nbformat_minor": 2
}
