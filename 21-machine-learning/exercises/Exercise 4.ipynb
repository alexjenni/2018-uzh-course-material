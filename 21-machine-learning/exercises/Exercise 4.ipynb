{
 "cells": [
  {
   "cell_type": "markdown",
   "metadata": {},
   "source": [
    "# Exercise 4"
   ]
  },
  {
   "cell_type": "markdown",
   "metadata": {},
   "source": [
    "## Boston Housing\n",
    "In this exercise, we are going to predict the house price from the `Boston` data set using tree methods.\n",
    "\n",
    "The following code will get you started:"
   ]
  },
  {
   "cell_type": "code",
   "execution_count": 1,
   "metadata": {
    "collapsed": false
   },
   "outputs": [
    {
     "name": "stderr",
     "output_type": "stream",
     "text": [
      "Loading required package: Matrix\n",
      "Loading required package: foreach\n",
      "Loaded glmnet 2.0-16\n",
      "\n",
      "randomForest 4.6-14\n",
      "Type rfNews() to see new features/changes/bug fixes.\n",
      "Loading required package: lattice\n",
      "Loading required package: ggplot2\n",
      "\n",
      "Attaching package: ‘ggplot2’\n",
      "\n",
      "The following object is masked from ‘package:randomForest’:\n",
      "\n",
      "    margin\n",
      "\n"
     ]
    }
   ],
   "source": [
    "library(mlbench)\n",
    "library(glmnet)\n",
    "library(randomForest)\n",
    "library(tree)\n",
    "library(caret)\n",
    "data(BostonHousing)\n",
    "trainIndex <- createDataPartition(BostonHousing$medv,p=0.7,list=FALSE)\n",
    "training.data <- BostonHousing[trainIndex,]\n",
    "test.data <- BostonHousing[-trainIndex,]\n",
    "x <- model.matrix(medv~.,data=training.data)[,-1]\n",
    "y <- training.data$medv"
   ]
  },
  {
   "cell_type": "markdown",
   "metadata": {},
   "source": [
    "**a.** Train a full regression tree for `medv` in the `training.data` dataset. Plot the tree."
   ]
  },
  {
   "cell_type": "markdown",
   "metadata": {},
   "source": [
    "**b.** Prune the tree. Find the optimal cost complexity parameter `k` using Cross-validation. Plot the `deviance` on the `size` of the trees. Plot the deviance-minimizing pruned tree."
   ]
  },
  {
   "cell_type": "markdown",
   "metadata": {},
   "source": [
    "**c.** Now grow a random forest with 1000 trees to predict `medv`. Plot the out-of-bag (OOB) error rate as a function of the number of trees."
   ]
  },
  {
   "cell_type": "markdown",
   "metadata": {},
   "source": [
    "**d.** Perform boosting on the training set with $B=20000$ trees, complexity $d=3$ and shrinkage parameter $\\lambda=0.001$."
   ]
  },
  {
   "cell_type": "markdown",
   "metadata": {},
   "source": [
    "**f.** Use the hold-out sample `test.data` to compare i) the single pruned tree, ii) the random forest, iii) boosting, and iv) our Elastic Net model as well as our OLS models from Exercise 2."
   ]
  }
 ],
 "metadata": {
  "kernelspec": {
   "display_name": "R",
   "language": "R",
   "name": "ir"
  },
  "language_info": {
   "codemirror_mode": "r",
   "file_extension": ".r",
   "mimetype": "text/x-r-source",
   "name": "R",
   "pygments_lexer": "r",
   "version": "3.4.4"
  }
 },
 "nbformat": 4,
 "nbformat_minor": 2
}
