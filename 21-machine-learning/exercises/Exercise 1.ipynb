{
 "cells": [
  {
   "cell_type": "markdown",
   "metadata": {},
   "source": [
    "# Exercise 1: Cross-validation\n",
    "Look at the `Glass` dataset from `mlbench`. It contains 214 observations on information about chemical analyses of glass.\n",
    "We want to predict its refractive index using Calcium (weight percent in Calcium oxide) and a few other variables:"
   ]
  },
  {
   "cell_type": "code",
   "execution_count": 1,
   "metadata": {
    "collapsed": false
   },
   "outputs": [
    {
     "data": {
      "text/plain": [
       "\n",
       "Call:\n",
       "lm(formula = RI ~ Ca, data = Glass)\n",
       "\n",
       "Residuals:\n",
       "       Min         1Q     Median         3Q        Max \n",
       "-0.0051658 -0.0009515 -0.0001842  0.0008354  0.0068121 \n",
       "\n",
       "Coefficients:\n",
       "             Estimate Std. Error t value Pr(>|t|)    \n",
       "(Intercept) 1.503e+00  7.787e-04 1930.03   <2e-16 ***\n",
       "Ca          1.729e-03  8.586e-05   20.14   <2e-16 ***\n",
       "---\n",
       "Signif. codes:  0 ‘***’ 0.001 ‘**’ 0.01 ‘*’ 0.05 ‘.’ 0.1 ‘ ’ 1\n",
       "\n",
       "Residual standard error: 0.001783 on 212 degrees of freedom\n",
       "Multiple R-squared:  0.6568,\tAdjusted R-squared:  0.6551 \n",
       "F-statistic: 405.6 on 1 and 212 DF,  p-value: < 2.2e-16\n"
      ]
     },
     "metadata": {},
     "output_type": "display_data"
    }
   ],
   "source": [
    "library(mlbench)\n",
    "data(Glass)\n",
    "summary(lm(RI~Ca,data=Glass))"
   ]
  },
  {
   "cell_type": "markdown",
   "metadata": {},
   "source": [
    "Use a Cross-validation method of your choice to choose between the following models:\n",
    "1. RI ~ Ca\n",
    "2. RI ~ Ca + Si\n",
    "3. RI ~ Ca + Si + Na\n",
    "4. RI ~ Ca + Si + Al:Na\n",
    "5. RI ~ Ca + Si + Na + Al:Na\n",
    "6. RI ~ Ca + Si + Na+Al + Al"
   ]
  }
 ],
 "metadata": {
  "kernelspec": {
   "display_name": "R",
   "language": "R",
   "name": "ir"
  },
  "language_info": {
   "codemirror_mode": "r",
   "file_extension": ".r",
   "mimetype": "text/x-r-source",
   "name": "R",
   "pygments_lexer": "r",
   "version": "3.4.4"
  }
 },
 "nbformat": 4,
 "nbformat_minor": 2
}
