{
 "cells": [
  {
   "cell_type": "markdown",
   "metadata": {},
   "source": [
    "# Exercise 5"
   ]
  },
  {
   "cell_type": "markdown",
   "metadata": {},
   "source": [
    "## 1. Predicting wage\n",
    "We use the `Wage` data set from the `ISLR` package. Your task is to predict the `logwage`.\n",
    "\n",
    "Explore some methods you learn in the course:\n",
    "1. Start by trying unregularized linear models. How well does that work?\n",
    "2. Next build more complicated models and try to regularize your linear models\n",
    "3. Go on exploring more non-linear models. Try trees, bagging, random forests, and boosting.\n",
    "\n",
    "Which method seems to work best here? Why?\n",
    "\n",
    "(Note: There is also a `wage` variable - you should obviously not use that)"
   ]
  },
  {
   "cell_type": "code",
   "execution_count": 1,
   "metadata": {
    "collapsed": false,
    "scrolled": true
   },
   "outputs": [
    {
     "name": "stderr",
     "output_type": "stream",
     "text": [
      "Loading required package: lattice\n",
      "Loading required package: ggplot2\n"
     ]
    }
   ],
   "source": [
    "library(caret)\n",
    "library(ISLR)\n",
    "data(Wage)\n",
    "Wage$wage <- NULL"
   ]
  },
  {
   "cell_type": "markdown",
   "metadata": {},
   "source": [
    "## 2. Poisonous or edible?\n",
    "This exercise uses a dataset of samples corresponding to 23 species of gilled mushrooms in the Agaricus and Lepiota Family Mushroom drawn from The Audubon Society Field Guide to North American Mushrooms (1981). Each species is identified as definitely edible, definitely poisonous, or of unknown edibility and not recommended. This latter class was combined with the poisonous one. The Guide clearly states that there is no simple rule for determining the edibility of a mushroom; no rule like \"leaflets three, let it be'' for Poisonous Oak and Ivy.\n",
    "\n",
    "Get the data as follows:"
   ]
  },
  {
   "cell_type": "code",
   "execution_count": 14,
   "metadata": {
    "collapsed": false
   },
   "outputs": [
    {
     "data": {
      "text/plain": [
       "        type        cap_shape     cap_surface     cap_color    bruises   \n",
       " edible   :4208   bell   : 452   fibrous:2320   brown  :2284   no :4748  \n",
       " poisonous:3916   conical:   4   grooves:   4   gray   :1840   yes:3376  \n",
       "                  convex :3656   scaly  :3244   red    :1500             \n",
       "                  flat   :3152   smooth :2556   yellow :1072             \n",
       "                  knobbed: 828                  white  :1040             \n",
       "                  sunken :  32                  buff   : 168             \n",
       "                                                (Other): 220             \n",
       "      odor      gill_attachment  gill_spacing   gill_size        gill_color  \n",
       " none   :3528   attached: 210   close  :6812   broad :5612   buff     :1728  \n",
       " foul   :2160   free    :7914   crowded:1312   narrow:2512   pink     :1492  \n",
       " fishy  : 576                                                white    :1202  \n",
       " spicy  : 576                                                brown    :1048  \n",
       " almond : 400                                                gray     : 752  \n",
       " anise  : 400                                                chocolate: 732  \n",
       " (Other): 484                                                (Other)  :1170  \n",
       "    stalk_shape     stalk_root   stalk_surface_above_ring\n",
       " enlarging:3516   bulbous:3776   fibrous: 552            \n",
       " tapering :4608   club   : 556   scaly  :  24            \n",
       "                  equal  :1120   silky  :2372            \n",
       "                  missing:2480   smooth :5176            \n",
       "                  rooted : 192                           \n",
       "                                                         \n",
       "                                                         \n",
       " stalk_surface_below_ring stalk_color_above_ring stalk_color_below_ring\n",
       " fibrous: 600             white  :4464           white  :4384          \n",
       " scaly  : 284             pink   :1872           pink   :1872          \n",
       " silky  :2304             gray   : 576           gray   : 576          \n",
       " smooth :4936             brown  : 448           brown  : 512          \n",
       "                          buff   : 432           buff   : 432          \n",
       "                          orange : 192           orange : 192          \n",
       "                          (Other): 140           (Other): 156          \n",
       "   veil_type     veil_color   ring_number      ring_type    spore_print_color\n",
       " partial:8124   brown :  96   none:  36   evanescent:2776   white    :2388   \n",
       "                orange:  96   one :7488   flaring   :  48   brown    :1968   \n",
       "                white :7924   two : 600   large     :1296   black    :1872   \n",
       "                yellow:   8               none      :  36   chocolate:1632   \n",
       "                                          pendant   :3968   green    :  72   \n",
       "                                                            buff     :  48   \n",
       "                                                            (Other)  : 144   \n",
       "     population      habitat    \n",
       " abundant : 384   grasses:2148  \n",
       " clustered: 340   leaves : 832  \n",
       " numerous : 400   meadows: 292  \n",
       " scattered:1248   paths  :1144  \n",
       " several  :4040   urban  : 368  \n",
       " solitary :1712   waste  : 192  \n",
       "                  woods  :3148  "
      ]
     },
     "metadata": {},
     "output_type": "display_data"
    }
   ],
   "source": [
    "df <- read.csv(\"https://raw.githubusercontent.com/dataspelunking/MLwR/master/Machine%20Learning%20with%20R%20(2nd%20Ed.)/Chapter%2005/mushrooms.csv\")\n",
    "summary(df)\n",
    "df$veil_type <- NULL"
   ]
  },
  {
   "cell_type": "markdown",
   "metadata": {},
   "source": [
    "We remove `veil_type` because, as you can see, it has only one level.\n",
    "\n",
    "Your tasks:\n",
    "\n",
    "**a.** Use a model of choice to predict edibility of the sampled fungi. How much would you trust your model?"
   ]
  },
  {
   "cell_type": "markdown",
   "metadata": {},
   "source": [
    "**b.** Now remove the variables `stalk*` and `gill*` as well as `odor` as follows:"
   ]
  },
  {
   "cell_type": "code",
   "execution_count": 29,
   "metadata": {
    "collapsed": true
   },
   "outputs": [],
   "source": [
    "dfr <- df[,ls(df)[-grep(\"stalk*|gill*|odor\",ls(df))]]"
   ]
  },
  {
   "cell_type": "markdown",
   "metadata": {},
   "source": [
    "Again fit several models of your choice and use the hold-out sample to evaluate all the models. Which will you choose?"
   ]
  },
  {
   "cell_type": "markdown",
   "metadata": {},
   "source": [
    "**c.** For this second data set (i.e. with removed variables), which model do you prefer and why?"
   ]
  }
 ],
 "metadata": {
  "kernelspec": {
   "display_name": "R",
   "language": "R",
   "name": "ir"
  },
  "language_info": {
   "codemirror_mode": "r",
   "file_extension": ".r",
   "mimetype": "text/x-r-source",
   "name": "R",
   "pygments_lexer": "r",
   "version": "3.4.4"
  }
 },
 "nbformat": 4,
 "nbformat_minor": 2
}
