{
 "cells": [
  {
   "cell_type": "markdown",
   "metadata": {},
   "source": [
    "# Exercise 3: Logistic Regression"
   ]
  },
  {
   "cell_type": "markdown",
   "metadata": {},
   "source": [
    "In this exercise we use data of Gorman and Sejnowsk (1988) on submarine sonar signals.\n",
    "They send sonar signals underwater where there are either just rocks (R) or metal cylindars (M). Think of the metal cylindar as enemy submarines which you try to detect.\n",
    "The sonar signal is bounced off and energy within a set of frequency bands is measured.\n",
    "\n",
    "Your goal: use these measurements to find out if the signal bounced off a metal cylindar or a rock."
   ]
  },
  {
   "cell_type": "code",
   "execution_count": 1,
   "metadata": {
    "collapsed": false
   },
   "outputs": [
    {
     "name": "stderr",
     "output_type": "stream",
     "text": [
      "Loading required package: Matrix\n",
      "Loading required package: foreach\n",
      "Loaded glmnet 2.0-16\n",
      "\n",
      "Loading required package: lattice\n",
      "Loading required package: ggplot2\n"
     ]
    }
   ],
   "source": [
    "library(mlbench)\n",
    "library(glmnet)\n",
    "library(caret)\n",
    "data(Sonar)"
   ]
  },
  {
   "cell_type": "markdown",
   "metadata": {},
   "source": [
    "## 1) Logistic regression model\n",
    "Fit the model `Class ~ .` using `glm` on the entire data set.\n",
    "\n",
    "Hint: don't forget `family=\"binomial\"`\n",
    "\n",
    "Does that work?"
   ]
  },
  {
   "cell_type": "markdown",
   "metadata": {},
   "source": [
    "## 2) Regularized logistic regression"
   ]
  },
  {
   "cell_type": "markdown",
   "metadata": {},
   "source": [
    "You have found that the logistic regression algorithm has problems converging. This is not unusual and one of the drawbacks of logistic regression.\n",
    "\n",
    "**a.** Now try to fit a penalized Elastic Net model with $\\alpha=0.5$.\n",
    "Use Cross-validation to find the CV error minimizing $\\lambda$.\n",
    "Does that work?\n",
    "\n",
    "Hint: Use `cv.glmnet`. And don't forget to create the model matrix using `model.matrix`.\n",
    "\n",
    "**b.** Plot the test error as a function of $\\lambda$ (Hint: just call `plot` on the object you get from `cv.glmnet`)\n"
   ]
  },
  {
   "cell_type": "markdown",
   "metadata": {},
   "source": [
    "**c.** Compute the confusion matrix for the 0.5 threshold (Hint: use `confusionMatrix` from the `caret` package)"
   ]
  },
  {
   "cell_type": "markdown",
   "metadata": {},
   "source": [
    "**d.** Plot the ROC curve. (Hint: Use the `ROCR` package"
   ]
  },
  {
   "cell_type": "markdown",
   "metadata": {},
   "source": [
    "## 3. SVM\n",
    "In this exercise we are going to train a Support Vector Machine with a Gaussian kernel on the `Sonar` data.\n",
    "\n",
    "Your task is to train a SVM and choose the parameter $\\gamma$ with 10-fold Cross-validation.\n",
    "Plot the CV error on $\\gamma$. \n",
    "\n",
    "Hint: interesting values of $\\gamma$ can be very small. It may be fruitful to use an exponentially-spaced grid for $\\gamma$ "
   ]
  }
 ],
 "metadata": {
  "kernelspec": {
   "display_name": "R",
   "language": "R",
   "name": "ir"
  },
  "language_info": {
   "codemirror_mode": "r",
   "file_extension": ".r",
   "mimetype": "text/x-r-source",
   "name": "R",
   "pygments_lexer": "r",
   "version": "3.4.4"
  }
 },
 "nbformat": 4,
 "nbformat_minor": 2
}
