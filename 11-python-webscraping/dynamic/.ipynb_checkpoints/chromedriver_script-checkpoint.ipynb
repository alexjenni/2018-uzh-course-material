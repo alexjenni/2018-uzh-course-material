{
 "cells": [
  {
   "cell_type": "code",
   "execution_count": 1,
   "metadata": {},
   "outputs": [],
   "source": [
    "# Install selenium\n",
    "\n",
    "# In terminal: pip install selenium\n",
    "#http://selenium-python.readthedocs.io/locating-elements.html\n"
   ]
  },
  {
   "cell_type": "code",
   "execution_count": 2,
   "metadata": {},
   "outputs": [],
   "source": [
    "# First, set up the folder environment\n",
    "# What I want to do:\n",
    "# 1) login to google forms\n",
    "# 2) download a google spreadsheet\n",
    "# 3) save it in my special folder"
   ]
  },
  {
   "cell_type": "code",
   "execution_count": 3,
   "metadata": {},
   "outputs": [],
   "source": [
    "# Set up folder environment\n",
    "import os\n",
    "import sys\n",
    "import zipfile\n",
    "\n",
    "\n"
   ]
  },
  {
   "cell_type": "code",
   "execution_count": 4,
   "metadata": {},
   "outputs": [
    {
     "data": {
      "text/plain": [
       "'C:\\\\Users\\\\uschaede\\\\Dropbox\\\\teaching\\\\pp4rs_2018\\\\webscraping\\\\dynamic'"
      ]
     },
     "execution_count": 4,
     "metadata": {},
     "output_type": "execute_result"
    }
   ],
   "source": [
    "pwd"
   ]
  },
  {
   "cell_type": "code",
   "execution_count": 5,
   "metadata": {},
   "outputs": [
    {
     "data": {
      "text/plain": [
       "'C:\\\\Users\\\\uschaede\\\\Dropbox\\\\teaching\\\\pp4rs_2018\\\\webscraping\\\\dynamic'"
      ]
     },
     "execution_count": 5,
     "metadata": {},
     "output_type": "execute_result"
    }
   ],
   "source": [
    "# Great, that is the path I want\n",
    "path = os.getcwd()\n",
    "path"
   ]
  },
  {
   "cell_type": "code",
   "execution_count": 6,
   "metadata": {},
   "outputs": [],
   "source": [
    "# Now I want to create a folder of where to store my output\n",
    "# Give it a name. Need to specify different path if you are on a Mac.\n",
    "output_path = path + '\\\\scraper_output'\n",
    "# Create a folder (if it doesnt exist yet!)\n",
    "if not os.path.exists(output_path):\n",
    "    os.makedirs(output_path)\n",
    "    \n",
    "# Great. We have an output folder"
   ]
  },
  {
   "cell_type": "code",
   "execution_count": 7,
   "metadata": {},
   "outputs": [],
   "source": [
    "# Set up shop for scraping\n",
    "\n",
    "# Import some useful stuff\n",
    "from selenium import webdriver\n",
    "\n",
    "# To transmit password and username\n",
    "from selenium.webdriver.common.keys import Keys\n",
    "\n",
    "# This is helpful for setting path environment to store files\n",
    "from selenium.webdriver.chrome.options import Options\n",
    "\n",
    "# To not overload the system\n",
    "import time\n"
   ]
  },
  {
   "cell_type": "code",
   "execution_count": 8,
   "metadata": {},
   "outputs": [],
   "source": [
    "# Define variables needed for scraping\n",
    "# Set chromedriver options so that it saves the zip file in the current directory\n",
    "# https://stackoverflow.com/questions/18026391/setting-chrome-preferences-w-selenium-webdriver-in-python\n",
    "chromeOptions = webdriver.ChromeOptions()\n",
    "\n",
    "# Specify where I want to store the downloads\n",
    "# pass this download directory to my Chrome options\n",
    "my_prefs = {\"download.default_directory\" : output_path}\n",
    "chromeOptions.add_experimental_option(\"prefs\", my_prefs)\n",
    "\n",
    "# Set driver options\n",
    "# Specify the path to where I stored Chromedriver\n",
    "chromedriver = 'C:/chromedriver/chromedriver'\n"
   ]
  },
  {
   "cell_type": "code",
   "execution_count": 9,
   "metadata": {},
   "outputs": [],
   "source": [
    "# Start the chromedriver! \n",
    "# Specify where to find the driver and which preferences to choose\n",
    "driver = webdriver.Chrome(executable_path = chromedriver, \n",
    "                          chrome_options = chromeOptions)\n",
    "\n",
    "# Alternatively and easier is just to say without any special prefs:\n",
    "# chromeOptions.add_experimental_option(\"prefs\",prefs)"
   ]
  },
  {
   "cell_type": "code",
   "execution_count": 10,
   "metadata": {},
   "outputs": [],
   "source": [
    "# Inputs\n",
    "# The site I want to open:\n",
    "url = 'https://docs.google.com/forms/'\n",
    "# My login credentials. NEVER EVER push to git!\n",
    "email = 'testpp4rs@gmail.com'\n",
    "password = 'fyevalpp4rs'"
   ]
  },
  {
   "cell_type": "code",
   "execution_count": 11,
   "metadata": {
    "scrolled": true
   },
   "outputs": [],
   "source": [
    "# Now, need to tell chrome which page I want to open\n",
    "# Open the page I specified above as the url\n",
    "driver.get(url)"
   ]
  },
  {
   "cell_type": "code",
   "execution_count": 12,
   "metadata": {},
   "outputs": [],
   "source": [
    "# Now I need to tell my remote mouse to click into the Email or phone field. \n",
    "# How to do this? Inspect the page: Ctrl Shift I on Windows or rightclick with the mouse and choose inspect. \n",
    "# Select the element I want to use\n",
    "# Easiest way for me to tell chromedriver what to open: Rightclick > copy> copy Xpath\n",
    "# Note that this may not work when ID changes. Deal with that later."
   ]
  },
  {
   "cell_type": "code",
   "execution_count": 13,
   "metadata": {},
   "outputs": [],
   "source": [
    "# Lets define the path object:\n",
    "#//*[@id=\"identifierId\"]\n",
    "inputmail = driver.find_element_by_xpath('//*[@id=\"identifierId\"]')"
   ]
  },
  {
   "cell_type": "code",
   "execution_count": 14,
   "metadata": {},
   "outputs": [],
   "source": [
    "# And click on it\n",
    "time.sleep(2)\n",
    "inputmail.click()\n"
   ]
  },
  {
   "cell_type": "code",
   "execution_count": 15,
   "metadata": {},
   "outputs": [],
   "source": [
    "# Let's send it my email address to put in \n",
    "time.sleep(2)\n",
    "inputmail.send_keys(email)"
   ]
  },
  {
   "cell_type": "code",
   "execution_count": 16,
   "metadata": {},
   "outputs": [],
   "source": [
    "# Now, want to click the NEXT button\n",
    "driver.find_element_by_xpath('//*[@id=\"identifierNext\"]').click()\n",
    "time.sleep(2)"
   ]
  },
  {
   "cell_type": "code",
   "execution_count": 17,
   "metadata": {},
   "outputs": [],
   "source": [
    "#//*[@id=\"password\"]/div[1]/div/div[1]/input\n",
    "inputpw = driver.find_element_by_xpath('//*[@id=\"password\"]/div[1]/div/div[1]/input')\n",
    "inputpw.send_keys(password)\n",
    "# This doesnt work if you do not have the div options or something changes in the page structure"
   ]
  },
  {
   "cell_type": "code",
   "execution_count": 18,
   "metadata": {
    "scrolled": false
   },
   "outputs": [],
   "source": [
    "# Try something different:\n",
    "# inputpw = driver.find_element_by_class_name(\"whsOnd\")"
   ]
  },
  {
   "cell_type": "code",
   "execution_count": 19,
   "metadata": {},
   "outputs": [],
   "source": [
    "# Put in pw and continue\n",
    "#inputpw = driver.find_element_by_name('password')\n",
    "#inputpw.send_keys(password)\n",
    "#time.sleep(10)"
   ]
  },
  {
   "cell_type": "code",
   "execution_count": 20,
   "metadata": {},
   "outputs": [],
   "source": [
    "# Try something different, II\n",
    "#inputpw = driver.find_element_by_name('password')"
   ]
  },
  {
   "cell_type": "code",
   "execution_count": 21,
   "metadata": {},
   "outputs": [],
   "source": [
    "driver.find_element_by_xpath('//*[@id=\"passwordNext\"]').click()\n",
    "time.sleep(10)\n",
    "# Now we accessed the site. Great"
   ]
  },
  {
   "cell_type": "code",
   "execution_count": 24,
   "metadata": {},
   "outputs": [],
   "source": [
    "# Want to download this file. \n",
    "# Click form I want to open\n",
    "# This works\n",
    "#driver.find_element_by_xpath('//*[@id=\":37\"]/div[1]').click()\n",
    "driver.find_element_by_class_name(\"docs-homescreen-grid-item-thumbnail\").click()\n",
    "time.sleep(10)"
   ]
  },
  {
   "cell_type": "code",
   "execution_count": 25,
   "metadata": {},
   "outputs": [],
   "source": [
    "# Click on the anwers tab\n",
    "driver.find_element_by_xpath('//*[@id=\"tJHJj\"]/div[3]/div[2]/div[1]/div[1]/div[2]').click()\n",
    "time.sleep(10)"
   ]
  },
  {
   "cell_type": "code",
   "execution_count": 26,
   "metadata": {},
   "outputs": [],
   "source": [
    "# Click on grey dots\n",
    "driver.find_element_by_xpath('//*[@id=\"ResponsesView\"]/div/div[1]/div[1]/div[2]/div[2]/div/div').click()\n",
    "time.sleep(10)\n",
    "\n"
   ]
  },
  {
   "cell_type": "code",
   "execution_count": 27,
   "metadata": {},
   "outputs": [],
   "source": [
    "# Find by string and class, note the quotation marks!\n",
    "driver.find_element_by_xpath(\"//*[@class = 'quantumWizMenuPapermenuMenuItemLabel' and contains (text(),'CSV')]\").click()\n"
   ]
  },
  {
   "cell_type": "code",
   "execution_count": 28,
   "metadata": {},
   "outputs": [],
   "source": [
    "time.sleep(3)\n",
    "stored_path = output_path + \"\\\\First_Year_evaluation.csv.zip\""
   ]
  },
  {
   "cell_type": "code",
   "execution_count": 29,
   "metadata": {},
   "outputs": [],
   "source": [
    "zip_ref = zipfile.ZipFile(stored_path, 'r')\n",
    "zip_ref.extractall(output_path)\n",
    "zip_ref.close()"
   ]
  },
  {
   "cell_type": "code",
   "execution_count": null,
   "metadata": {},
   "outputs": [],
   "source": [
    "# https://docs.python.org/3/library/zipfile.html#zipfile-objects under 13.5.1. more about zipfiles\n"
   ]
  }
 ],
 "metadata": {
  "kernelspec": {
   "display_name": "Python 3",
   "language": "python",
   "name": "python3"
  },
  "language_info": {
   "codemirror_mode": {
    "name": "ipython",
    "version": 3
   },
   "file_extension": ".py",
   "mimetype": "text/x-python",
   "name": "python",
   "nbconvert_exporter": "python",
   "pygments_lexer": "ipython3",
   "version": "3.6.5"
  }
 },
 "nbformat": 4,
 "nbformat_minor": 2
}
